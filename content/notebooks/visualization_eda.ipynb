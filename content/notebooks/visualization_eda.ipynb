{
 "cells": [
  {
   "cell_type": "markdown",
   "id": "8eeeada9-ceeb-4192-9156-cc4712dc792a",
   "metadata": {},
   "source": [
    "# Exploring Data with Visualizations and EDA"
   ]
  },
  {
   "cell_type": "markdown",
   "id": "9b1848ac-b663-43fa-828d-547255f12c40",
   "metadata": {},
   "source": [
    "## **Introduction**\n",
    "Exploratory Data Analysis (EDA) and visualizations are fundamental steps in understanding the structure and patterns within a dataset. Visual tools can provide insights that are not immediately evident from raw numbers.\n",
    "\n",
    "### **Key Topics**:\n",
    "\n",
    "#### **1. Histograms**:\n",
    "- Used to visualize the distribution of a single numeric variable.\n",
    "- Displays frequencies of data in bins.\n",
    "- Formula for bin width:\n",
    "  $$\n",
    "  \\text{Bin Width} = \\frac{\\text{Range of Data}}{\\text{Number of Bins}}\n",
    "  $$\n",
    "\n",
    "#### **2. Boxplots**:\n",
    "- Used to summarize the distribution of a variable and identify outliers.\n",
    "- Key components:\n",
    "  - **Median (Q2)**: Middle value.\n",
    "  - **Interquartile Range (IQR)**: Difference between Q3 and Q1.\n",
    "  - **Outliers**: Values outside $(Q1 - 1.5 \\times \\text{IQR})$ or $(Q3 + 1.5 \\times \\text{IQR})$.\n",
    "\n",
    "#### **3. Scatterplots**:\n",
    "- Used to explore relationships between two numeric variables.\n",
    "- Useful for identifying trends, clusters, and potential correlations.\n",
    "\n",
    "#### **4. Correlation vs. Causation**:\n",
    "- **Correlation**: A statistical measure that describes the relationship between two variables.\n",
    "  $$\n",
    "  \\text{Correlation Coefficient (r)} = \\frac{\\sum (x_i - \\bar{x})(y_i - \\bar{y})}{\\sqrt{\\sum (x_i - \\bar{x})^2 \\sum (y_i - \\bar{y})^2}}\n",
    "$$\n",
    "- **Causation**: Indicates a cause-and-effect relationship.\n",
    "- **Key Insight**: Correlation does not imply causation.\n",
    "\n",
    "#### **5. Heatmaps and Pairplots**:\n",
    "- **Heatmaps**: Visualize correlations between numeric variables using a color-coded matrix.\n",
    "- **Pairplots**: Visualize pairwise relationships between numeric variables.\n"
   ]
  },
  {
   "cell_type": "markdown",
   "id": "b5c9bce2-bf05-4589-8bf1-a0b68893cca0",
   "metadata": {},
   "source": [
    "## **Dataset**\n",
    "We will use the **Iris Flowers Dataset** for this notebook.\n",
    "\n",
    "**Dataset Description**:\n",
    "- The Iris dataset contains information about the measurements of iris flowers from three species.\n",
    "\n",
    "**Columns of Interest**:\n",
    "- **`sepal length (cm)`**: Numerical, represents the length of the sepals in centimeters.\n",
    "- **`sepal width (cm)`**: Numerical, represents the width of the sepals in centimeters.\n",
    "- **`petal length (cm)`**: Numerical, represents the length of the petals in centimeters.\n",
    "- **`petal width (cm)`**: Numerical, represents the width of the petals in centimeters.\n",
    "- **`species`**: Categorical, represents the species of the flower (Setosa, Versicolor, or Virginica)."
   ]
  },
  {
   "cell_type": "markdown",
   "id": "16b532d4-fb13-4300-a926-194106787c63",
   "metadata": {},
   "source": [
    "## **Loading the Dataset**"
   ]
  },
  {
   "cell_type": "code",
   "execution_count": 1,
   "id": "bae29787-3cca-46e4-88dc-071f701cfa02",
   "metadata": {},
   "outputs": [],
   "source": [
    "import pandas as pd \n",
    "import numpy as np \n",
    "import matplotlib.pyplot as plt \n",
    "import seaborn as sns"
   ]
  },
  {
   "cell_type": "code",
   "execution_count": 2,
   "id": "4d88b8a8-4612-46f8-ab81-fc136b302cf1",
   "metadata": {},
   "outputs": [],
   "source": [
    "#loading the iris flowers dataset \n",
    "from sklearn.datasets import load_iris"
   ]
  },
  {
   "cell_type": "code",
   "execution_count": 6,
   "id": "b2071fff-47ab-42a2-92ba-b20ab1dc14a7",
   "metadata": {},
   "outputs": [],
   "source": [
    "iris = load_iris(as_frame=True)"
   ]
  },
  {
   "cell_type": "code",
   "execution_count": 7,
   "id": "5ab46997-dd08-4f31-9686-cbdbf6c02fac",
   "metadata": {},
   "outputs": [],
   "source": [
    "iris_df = iris.frame \n",
    "iris_df['species'] = pd.Categorical.from_codes(iris.target, iris.target_names)"
   ]
  },
  {
   "cell_type": "code",
   "execution_count": 8,
   "id": "687c0701-12ee-43fc-8552-42831180d0d5",
   "metadata": {},
   "outputs": [
    {
     "data": {
      "text/html": [
       "<div>\n",
       "<style scoped>\n",
       "    .dataframe tbody tr th:only-of-type {\n",
       "        vertical-align: middle;\n",
       "    }\n",
       "\n",
       "    .dataframe tbody tr th {\n",
       "        vertical-align: top;\n",
       "    }\n",
       "\n",
       "    .dataframe thead th {\n",
       "        text-align: right;\n",
       "    }\n",
       "</style>\n",
       "<table border=\"1\" class=\"dataframe\">\n",
       "  <thead>\n",
       "    <tr style=\"text-align: right;\">\n",
       "      <th></th>\n",
       "      <th>sepal length (cm)</th>\n",
       "      <th>sepal width (cm)</th>\n",
       "      <th>petal length (cm)</th>\n",
       "      <th>petal width (cm)</th>\n",
       "      <th>target</th>\n",
       "      <th>species</th>\n",
       "    </tr>\n",
       "  </thead>\n",
       "  <tbody>\n",
       "    <tr>\n",
       "      <th>0</th>\n",
       "      <td>5.1</td>\n",
       "      <td>3.5</td>\n",
       "      <td>1.4</td>\n",
       "      <td>0.2</td>\n",
       "      <td>0</td>\n",
       "      <td>setosa</td>\n",
       "    </tr>\n",
       "    <tr>\n",
       "      <th>1</th>\n",
       "      <td>4.9</td>\n",
       "      <td>3.0</td>\n",
       "      <td>1.4</td>\n",
       "      <td>0.2</td>\n",
       "      <td>0</td>\n",
       "      <td>setosa</td>\n",
       "    </tr>\n",
       "    <tr>\n",
       "      <th>2</th>\n",
       "      <td>4.7</td>\n",
       "      <td>3.2</td>\n",
       "      <td>1.3</td>\n",
       "      <td>0.2</td>\n",
       "      <td>0</td>\n",
       "      <td>setosa</td>\n",
       "    </tr>\n",
       "    <tr>\n",
       "      <th>3</th>\n",
       "      <td>4.6</td>\n",
       "      <td>3.1</td>\n",
       "      <td>1.5</td>\n",
       "      <td>0.2</td>\n",
       "      <td>0</td>\n",
       "      <td>setosa</td>\n",
       "    </tr>\n",
       "    <tr>\n",
       "      <th>4</th>\n",
       "      <td>5.0</td>\n",
       "      <td>3.6</td>\n",
       "      <td>1.4</td>\n",
       "      <td>0.2</td>\n",
       "      <td>0</td>\n",
       "      <td>setosa</td>\n",
       "    </tr>\n",
       "  </tbody>\n",
       "</table>\n",
       "</div>"
      ],
      "text/plain": [
       "   sepal length (cm)  sepal width (cm)  petal length (cm)  petal width (cm)  \\\n",
       "0                5.1               3.5                1.4               0.2   \n",
       "1                4.9               3.0                1.4               0.2   \n",
       "2                4.7               3.2                1.3               0.2   \n",
       "3                4.6               3.1                1.5               0.2   \n",
       "4                5.0               3.6                1.4               0.2   \n",
       "\n",
       "   target species  \n",
       "0       0  setosa  \n",
       "1       0  setosa  \n",
       "2       0  setosa  \n",
       "3       0  setosa  \n",
       "4       0  setosa  "
      ]
     },
     "execution_count": 8,
     "metadata": {},
     "output_type": "execute_result"
    }
   ],
   "source": [
    "iris_df.head()"
   ]
  },
  {
   "cell_type": "markdown",
   "id": "665b557d-9f0d-47c8-8923-d3790d09f091",
   "metadata": {},
   "source": [
    "## **Exercises**"
   ]
  },
  {
   "cell_type": "markdown",
   "id": "c3c9bbb6-9e32-44f5-a5d6-7c6a27e6061b",
   "metadata": {},
   "source": [
    "### **Exercise 1: Data Overview**\n",
    "**Question**: What are the data types of the columns? How many unique values are present in the `species` column?"
   ]
  },
  {
   "cell_type": "code",
   "execution_count": null,
   "id": "2313d626-5187-4219-a04c-6b6a94162f73",
   "metadata": {},
   "outputs": [],
   "source": []
  },
  {
   "cell_type": "code",
   "execution_count": 11,
   "id": "683bf0d1-a97b-4638-90c2-7f401d1c0e97",
   "metadata": {},
   "outputs": [],
   "source": [
    "# knowing the target values \n"
   ]
  },
  {
   "cell_type": "code",
   "execution_count": null,
   "id": "f2f919c6-2e83-42ef-9886-5f36fceb2437",
   "metadata": {},
   "outputs": [],
   "source": []
  },
  {
   "cell_type": "markdown",
   "id": "7951bbc9-891b-4892-9d66-6c727cefc8a2",
   "metadata": {},
   "source": [
    "### **Exercise 2: Histograms**\n",
    "**Scenario**: The botanist wants to understand the distribution of sepal and petal lengths.\n",
    "\n",
    "**Questions**:\n",
    "- Plot histograms for `sepal length (cm)` and `petal length (cm)`.\n",
    "- Identify the range of values and observe the overall distribution.\n"
   ]
  },
  {
   "cell_type": "code",
   "execution_count": null,
   "id": "e659c584-201e-46d4-aa5e-c075e1f154ab",
   "metadata": {},
   "outputs": [],
   "source": []
  },
  {
   "cell_type": "markdown",
   "id": "9aa1796f-305c-48cc-8aae-f8c26bced42c",
   "metadata": {},
   "source": [
    "### **Exercise 3: Boxplots**\n",
    "**Scenario**: The researcher wants to identify any potential outliers in the measurements.\n",
    "\n",
    "**Questions**:\n",
    "- Create boxplots for `sepal width (cm)` and `petal width (cm)`.\n",
    "- Highlight any outliers and explain their significance.\n"
   ]
  },
  {
   "cell_type": "code",
   "execution_count": null,
   "id": "7a0824de-cd9c-4fc6-8c33-b6cf36196836",
   "metadata": {},
   "outputs": [],
   "source": []
  },
  {
   "cell_type": "markdown",
   "id": "120509d9-5a05-4dbf-bbfd-f2eac1d26b6f",
   "metadata": {},
   "source": [
    "### **Exercise 4: Scatterplots**\n",
    "**Scenario**: The scientist wants to study the relationship between petal length and width.\n",
    "\n",
    "**Questions**:\n",
    "- Create a scatterplot to visualize the relationship between `petal length (cm)` and `petal width (cm)`.\n",
    "- Is there a visible trend?\n"
   ]
  },
  {
   "cell_type": "code",
   "execution_count": null,
   "id": "17b13292-6c5a-4418-b695-ba65cacc77a5",
   "metadata": {},
   "outputs": [],
   "source": []
  },
  {
   "cell_type": "markdown",
   "id": "c6d3f8a6-5b38-47fd-9270-a2c2ced8960a",
   "metadata": {},
   "source": [
    "### **Exercise 5: Correlation and Heatmaps**\n",
    "**Scenario**: The researcher wants to analyze the correlation between all numeric variables.\n",
    "\n",
    "**Questions**:\n",
    "- Calculate the correlation coefficients for all numeric columns.\n",
    "- Create a heatmap to visualize the correlations.\n",
    "- Which variables have the strongest correlation?\n"
   ]
  },
  {
   "cell_type": "code",
   "execution_count": null,
   "id": "f7ffd7e1-fbb5-4e67-8c32-f02fb8ae1622",
   "metadata": {},
   "outputs": [],
   "source": []
  },
  {
   "cell_type": "markdown",
   "id": "5107281c-99bb-4d0f-8d69-845a7373dc08",
   "metadata": {},
   "source": [
    "### **Exercise 6: Pairplots**\n",
    "**Scenario**: The researcher wants to understand pairwise relationships across all features, categorized by species.\n",
    "\n",
    "**Questions**:\n",
    "- Create a pairplot for all numeric features, grouped by `species`.\n",
    "- Are there any noticeable clusters or separations between species?\n"
   ]
  },
  {
   "cell_type": "code",
   "execution_count": null,
   "id": "a521630b-a613-4620-a4a1-be2397f35566",
   "metadata": {},
   "outputs": [],
   "source": []
  },
  {
   "cell_type": "markdown",
   "id": "467be57e-113a-4cf3-b792-0f7d5ad632e8",
   "metadata": {},
   "source": [
    "### **Exercise 7: Species Analysis**\n",
    "**Scenario**: The botanist wants to explore the differences in sepal and petal measurements between species.\n",
    "\n",
    "**Questions**:\n",
    "- What is the average sepal length for each species?\n",
    "- Which species has the largest average petal width?\n"
   ]
  },
  {
   "cell_type": "code",
   "execution_count": null,
   "id": "3e625e3f-6542-4369-abdd-b0a4b449b00a",
   "metadata": {},
   "outputs": [],
   "source": []
  },
  {
   "cell_type": "markdown",
   "id": "c274f8c3-7a82-46d5-ac62-0b35f8632677",
   "metadata": {},
   "source": [
    "### **Exercise 8: Outlier Detection**\n",
    "**Questions**:\n",
    "- Identify outliers for `sepal width (cm)` using the IQR method.\n",
    "- How do the outliers compare across different species?\n"
   ]
  },
  {
   "cell_type": "code",
   "execution_count": null,
   "id": "994c9b2e-ba5b-42fd-97de-1d70a8f494f1",
   "metadata": {},
   "outputs": [],
   "source": []
  },
  {
   "cell_type": "markdown",
   "id": "6b6078b4-c9b1-4032-8244-5663c6e17005",
   "metadata": {},
   "source": [
    "### **Exercise 9: Visualizing Categorical Data**\n",
    "**Scenario**: The botanist wants to understand the species distribution.\n",
    "\n",
    "**Questions**:\n",
    "- Create a bar plot to show the count of each species.\n"
   ]
  },
  {
   "cell_type": "code",
   "execution_count": null,
   "id": "8117d1a7-6158-471e-bdcc-284b0566af45",
   "metadata": {},
   "outputs": [],
   "source": []
  },
  {
   "cell_type": "markdown",
   "id": "9d709c36-65a9-4686-99ee-00c3c4de1b18",
   "metadata": {},
   "source": [
    "### **Exercise 10: Advanced Scatterplots**\n",
    "**Scenario**: The researcher wants to add more context to the scatterplots.\n",
    "\n",
    "**Questions**:\n",
    "- Create a scatterplot for `sepal length (cm)` vs `sepal width (cm)`, using `species` for color coding.\n"
   ]
  },
  {
   "cell_type": "code",
   "execution_count": null,
   "id": "f26264c2-9b8e-4c45-aeac-223135b6585b",
   "metadata": {},
   "outputs": [],
   "source": []
  },
  {
   "cell_type": "markdown",
   "id": "89cd1088-83e8-434a-9281-8277ab14ce77",
   "metadata": {},
   "source": [
    "## **Conclusion**\n",
    "Visualizations and EDA are powerful tools for uncovering patterns and relationships in data. Through this notebook, you explored key visualization techniques and their applications to the Iris dataset. These skills are essential for analyzing real-world datasets effectively.\n"
   ]
  },
  {
   "cell_type": "code",
   "execution_count": null,
   "id": "3e582baf-cc5b-478e-9a43-abac6aeeb231",
   "metadata": {},
   "outputs": [],
   "source": []
  }
 ],
 "metadata": {
  "kernelspec": {
   "display_name": "Python 3 (ipykernel)",
   "language": "python",
   "name": "python3"
  },
  "language_info": {
   "codemirror_mode": {
    "name": "ipython",
    "version": 3
   },
   "file_extension": ".py",
   "mimetype": "text/x-python",
   "name": "python",
   "nbconvert_exporter": "python",
   "pygments_lexer": "ipython3",
   "version": "3.12.7"
  }
 },
 "nbformat": 4,
 "nbformat_minor": 5
}
