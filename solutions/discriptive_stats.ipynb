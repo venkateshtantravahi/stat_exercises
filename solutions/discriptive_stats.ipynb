{
 "cells": [
  {
   "cell_type": "markdown",
   "id": "1b6475ce-b3b0-4835-9dec-f99558556ad1",
   "metadata": {
    "panel-layout": {
     "height": 828.4375,
     "visible": true,
     "width": 100
    }
   },
   "source": [
    "# Exploring Descriptive Statistics\n",
    "\n",
    "## **Introduction**\n",
    "Descriptive statistics provide essential tools to summarize and understand data. They include measures of central tendency, variability, and distribution shape. In this notebook, we'll explore these concepts using the \"Students Performance in Exams\" dataset.\n",
    "\n",
    "### **Key Concepts**:\n",
    "- **Mean**: The average of a set of numbers, calculated as:\n",
    "\n",
    "  $$\n",
    "  \\text{Mean} = \\frac{\\sum_{i=1}^n x_i}{n}\n",
    "  $$\n",
    "  where $(x_i)$ are the data points and $(n)$ is the number of data points.\n",
    "\n",
    "- **Median**: The middle value when the numbers are sorted. If $(n)$ is odd, it is the middle value; if $(n)$ is even, it is the average of the two middle values.\n",
    "\n",
    "- **Mode**: The most frequently occurring value in a dataset.\n",
    "\n",
    "- **Variance**: The average squared deviation from the mean, measuring spread:\n",
    "  $$\n",
    "  \\text{Variance} = \\frac{\\sum_{i=1}^n (x_i - \\mu)^2}{n}\n",
    "  $$\n",
    "  where $(\\mu)$ is the mean.\n",
    "\n",
    "- **Standard Deviation**: The square root of variance, representing spread in the same units as the data:\n",
    "  $$\n",
    "  \\text{Standard Deviation} = \\sqrt{\\text{Variance}}\n",
    "  $$\n",
    "\n",
    "- **Percentiles and Quartiles**: Values dividing the data into 100 or 4 equal parts, respectively. For example, the 25th percentile (Q1) represents the value below which 25% of data lies.\n",
    "\n",
    "- **Skewness**: A measure of data asymmetry:\n",
    "  $$\n",
    "  \\text{Skewness} = \\frac{\\sum_{i=1}^n (x_i - \\mu)^3}{n \\cdot \\sigma^3}\n",
    "  $$\n",
    "  where $(\\sigma)$ is the standard deviation.\n",
    "\n",
    "- **Kurtosis**: A measure of whether data tails are heavy or light compared to a normal distribution:\n",
    "  $$\n",
    "  \\text{Kurtosis} = \\frac{\\sum_{i=1}^n (x_i - \\mu)^4}{n \\cdot \\sigma^4} - 3\n",
    "  $$\n"
   ]
  },
  {
   "cell_type": "markdown",
   "id": "fefbaa73-9105-4d2a-b69d-ffc7ba4f80f8",
   "metadata": {
    "panel-layout": {
     "height": 256.25,
     "visible": true,
     "width": 100
    }
   },
   "source": [
    "## **Dataset**\n",
    "We'll use the **\"Students Performance in Exams\"** dataset available on Kaggle.\n",
    "\n",
    "**Dataset Link**: [https://www.kaggle.com/spscientist/students-performance-in-exams](https://www.kaggle.com/spscientist/students-performance-in-exams)\n",
    "\n",
    "**Columns of Interest**:\n",
    "- **`math score`**: Numerical, representing the score obtained by students in mathematics.\n",
    "- **`reading score`**: Numerical, representing the score obtained by students in reading.\n",
    "- **`writing score`**: Numerical, representing the score obtained by students in writing.\n",
    "- **`gender`**: Categorical, representing the gender of the student (e.g., male, female).\n",
    "- **`parental level of education`**: Categorical, indicating the highest level of education achieved by the student’s parents.\n"
   ]
  },
  {
   "cell_type": "markdown",
   "id": "dc8f2d02-6823-45fe-a7ac-99caf236b2bd",
   "metadata": {},
   "source": [
    "## **Loading the Dataset**"
   ]
  },
  {
   "cell_type": "code",
   "execution_count": 1,
   "id": "adba560d-02e1-4491-96a5-52ed6084a856",
   "metadata": {},
   "outputs": [],
   "source": [
    "import pandas as pd\n",
    "import numpy as np\n",
    "from scipy.stats import skew, kurtosis\n",
    "import matplotlib.pyplot as plt\n",
    "import seaborn as sns"
   ]
  },
  {
   "cell_type": "markdown",
   "id": "b0ee2d53-18a0-4984-b6a3-3c5b3b2cf9dd",
   "metadata": {},
   "source": [
    "# Load the dataset"
   ]
  },
  {
   "cell_type": "code",
   "execution_count": 2,
   "id": "87166267-d004-4022-b13c-e049cc4bebf9",
   "metadata": {},
   "outputs": [],
   "source": [
    "data_url = \"../datasets/StudentsPerformance.csv\"\n",
    "df = pd.read_csv(data_url)"
   ]
  },
  {
   "cell_type": "code",
   "execution_count": 3,
   "id": "71f3426a-cc14-4fff-a833-6724b84814c7",
   "metadata": {},
   "outputs": [
    {
     "data": {
      "text/html": [
       "<div>\n",
       "<style scoped>\n",
       "    .dataframe tbody tr th:only-of-type {\n",
       "        vertical-align: middle;\n",
       "    }\n",
       "\n",
       "    .dataframe tbody tr th {\n",
       "        vertical-align: top;\n",
       "    }\n",
       "\n",
       "    .dataframe thead th {\n",
       "        text-align: right;\n",
       "    }\n",
       "</style>\n",
       "<table border=\"1\" class=\"dataframe\">\n",
       "  <thead>\n",
       "    <tr style=\"text-align: right;\">\n",
       "      <th></th>\n",
       "      <th>gender</th>\n",
       "      <th>race/ethnicity</th>\n",
       "      <th>parental level of education</th>\n",
       "      <th>lunch</th>\n",
       "      <th>test preparation course</th>\n",
       "      <th>math score</th>\n",
       "      <th>reading score</th>\n",
       "      <th>writing score</th>\n",
       "    </tr>\n",
       "  </thead>\n",
       "  <tbody>\n",
       "    <tr>\n",
       "      <th>0</th>\n",
       "      <td>female</td>\n",
       "      <td>group B</td>\n",
       "      <td>bachelor's degree</td>\n",
       "      <td>standard</td>\n",
       "      <td>none</td>\n",
       "      <td>72</td>\n",
       "      <td>72</td>\n",
       "      <td>74</td>\n",
       "    </tr>\n",
       "    <tr>\n",
       "      <th>1</th>\n",
       "      <td>female</td>\n",
       "      <td>group C</td>\n",
       "      <td>some college</td>\n",
       "      <td>standard</td>\n",
       "      <td>completed</td>\n",
       "      <td>69</td>\n",
       "      <td>90</td>\n",
       "      <td>88</td>\n",
       "    </tr>\n",
       "    <tr>\n",
       "      <th>2</th>\n",
       "      <td>female</td>\n",
       "      <td>group B</td>\n",
       "      <td>master's degree</td>\n",
       "      <td>standard</td>\n",
       "      <td>none</td>\n",
       "      <td>90</td>\n",
       "      <td>95</td>\n",
       "      <td>93</td>\n",
       "    </tr>\n",
       "    <tr>\n",
       "      <th>3</th>\n",
       "      <td>male</td>\n",
       "      <td>group A</td>\n",
       "      <td>associate's degree</td>\n",
       "      <td>free/reduced</td>\n",
       "      <td>none</td>\n",
       "      <td>47</td>\n",
       "      <td>57</td>\n",
       "      <td>44</td>\n",
       "    </tr>\n",
       "    <tr>\n",
       "      <th>4</th>\n",
       "      <td>male</td>\n",
       "      <td>group C</td>\n",
       "      <td>some college</td>\n",
       "      <td>standard</td>\n",
       "      <td>none</td>\n",
       "      <td>76</td>\n",
       "      <td>78</td>\n",
       "      <td>75</td>\n",
       "    </tr>\n",
       "  </tbody>\n",
       "</table>\n",
       "</div>"
      ],
      "text/plain": [
       "   gender race/ethnicity parental level of education         lunch  \\\n",
       "0  female        group B           bachelor's degree      standard   \n",
       "1  female        group C                some college      standard   \n",
       "2  female        group B             master's degree      standard   \n",
       "3    male        group A          associate's degree  free/reduced   \n",
       "4    male        group C                some college      standard   \n",
       "\n",
       "  test preparation course  math score  reading score  writing score  \n",
       "0                    none          72             72             74  \n",
       "1               completed          69             90             88  \n",
       "2                    none          90             95             93  \n",
       "3                    none          47             57             44  \n",
       "4                    none          76             78             75  "
      ]
     },
     "execution_count": 3,
     "metadata": {},
     "output_type": "execute_result"
    }
   ],
   "source": [
    "# Display the first few rows of the dataset\n",
    "df.head()"
   ]
  },
  {
   "cell_type": "markdown",
   "id": "246565ab-1c96-49d0-bfd7-11109e3e6cb5",
   "metadata": {},
   "source": [
    "## **Exercises**"
   ]
  },
  {
   "cell_type": "markdown",
   "id": "07c233fe-bea0-4245-8d88-f0d4416b8c46",
   "metadata": {},
   "source": [
    "### **Exercise 1: Data Overview**\n",
    "**Question**: \n",
    "What are the data types of the columns? How many unique values are present in categorical columns?\n"
   ]
  },
  {
   "cell_type": "code",
   "execution_count": 4,
   "id": "80f51f8c-3fe5-48ec-a206-9ea9731bf09f",
   "metadata": {},
   "outputs": [
    {
     "name": "stdout",
     "output_type": "stream",
     "text": [
      "<class 'pandas.core.frame.DataFrame'>\n",
      "RangeIndex: 1000 entries, 0 to 999\n",
      "Data columns (total 8 columns):\n",
      " #   Column                       Non-Null Count  Dtype \n",
      "---  ------                       --------------  ----- \n",
      " 0   gender                       1000 non-null   object\n",
      " 1   race/ethnicity               1000 non-null   object\n",
      " 2   parental level of education  1000 non-null   object\n",
      " 3   lunch                        1000 non-null   object\n",
      " 4   test preparation course      1000 non-null   object\n",
      " 5   math score                   1000 non-null   int64 \n",
      " 6   reading score                1000 non-null   int64 \n",
      " 7   writing score                1000 non-null   int64 \n",
      "dtypes: int64(3), object(5)\n",
      "memory usage: 62.6+ KB\n"
     ]
    }
   ],
   "source": [
    "df.info() #provides the information related to each column "
   ]
  },
  {
   "cell_type": "code",
   "execution_count": 5,
   "id": "2399fc81-5039-4161-95ab-b37200ea14f2",
   "metadata": {},
   "outputs": [
    {
     "name": "stdout",
     "output_type": "stream",
     "text": [
      "Number of unique values present in Gender : 2\n",
      "['female' 'male']\n",
      "Number of unique values present in column parental level of education are : 6\n",
      "[\"bachelor's degree\" 'some college' \"master's degree\" \"associate's degree\"\n",
      " 'high school' 'some high school']\n"
     ]
    }
   ],
   "source": [
    "print(f'Number of unique values present in {'Gender'} : {df['gender'].nunique()}') # counts unique values\n",
    "\n",
    "print(df.gender.unique()) # print the unique values of a column\n",
    "\n",
    "print(f'Number of unique values present in column parental level of education are : {df['parental level of education'].nunique()}')\n",
    "\n",
    "print(df['parental level of education'].unique())"
   ]
  },
  {
   "cell_type": "markdown",
   "id": "0299f641-3f11-4f2b-8e31-6082a556d502",
   "metadata": {},
   "source": [
    "### **Exercise 2: Mean, Median, Mode**\n",
    "**Scenario**: \n",
    "A teacher wants to understand how her class performed in the math exam.\n",
    "\n",
    "**Question**: \n",
    "- What are the mean, median, and mode of the `math score`?\n"
   ]
  },
  {
   "cell_type": "code",
   "execution_count": 6,
   "id": "0e53cbd2-c090-4eef-ac8a-b08434e934e1",
   "metadata": {},
   "outputs": [
    {
     "name": "stdout",
     "output_type": "stream",
     "text": [
      "Avg of class is: 66.09\n",
      "50th percentile of class is : 66.0\n",
      "Frequent got score was: 0    65\n",
      "Name: math score, dtype: int64\n"
     ]
    }
   ],
   "source": [
    "# so here mean helps to determine the avg of whole class\n",
    "mean_of_class = df['math score'].mean()\n",
    "print(f'Avg of class is: {round(mean_of_class, 2)}')\n",
    "\n",
    "#whereas median helps the teacher to grade people who belong to top 50% and who belong to last 50%  as median is middle value\n",
    "median_of_class = df['math score'].median()\n",
    "print(f'50th percentile of class is : {median_of_class}')\n",
    "# mode helps to identify the most scored score or repeatedly scored value in a group of scores\n",
    "mode_of_class = df['math score'].mode()\n",
    "print(f'Frequent got score was: {mode_of_class}')"
   ]
  },
  {
   "cell_type": "markdown",
   "id": "90cfa927-e973-41a2-ae40-ca5a8d8b7445",
   "metadata": {},
   "source": [
    "### **Exercise 3: Variance and Standard Deviation**\n",
    "**Scenario**: \n",
    "The school principal wants to know how consistent students are in their reading scores.\n",
    "\n",
    "**Question**: \n",
    "- Calculate the variance and standard deviation for `reading score`.\n"
   ]
  },
  {
   "cell_type": "code",
   "execution_count": 15,
   "id": "05db225b-3ee5-4b0a-9972-dcba34916119",
   "metadata": {},
   "outputs": [
    {
     "name": "stdout",
     "output_type": "stream",
     "text": [
      "The Variance of Student scores are: 213.17\n",
      "The standard deviation of student reading scores are: 14.6\n"
     ]
    }
   ],
   "source": [
    "# variance helps to identify how the data is spread across the axis mean\n",
    "student_score_consistency = df['reading score'].var(skipna=True, ddof=1)\n",
    "\n",
    "print(f\"The Variance of Student scores are: {round(student_score_consistency, 2)}\")\n",
    "\n",
    "#how each individual score is deviated from mean score. \n",
    "student_score_deviation = df['reading score'].std()\n",
    "\n",
    "print(f\"The standard deviation of student reading scores are: {round(student_score_deviation,2)}\")"
   ]
  },
  {
   "cell_type": "markdown",
   "id": "aa766f3a-c0e1-44c7-a05b-84be1a54e934",
   "metadata": {},
   "source": [
    "### **Exercise 4: Percentiles and Quartiles**\n",
    "**Scenario**: \n",
    "The school counselor wants to identify the top 25% of students based on their writing scores.\n",
    "\n",
    "**Questions**: \n",
    "- What are the 25th, 50th (median), and 75th percentiles for `writing score`?\n",
    "- How would you identify students in the top 25%?\n"
   ]
  },
  {
   "cell_type": "code",
   "execution_count": 19,
   "id": "5055f6b0-f355-45d0-993c-e5e513c191d7",
   "metadata": {},
   "outputs": [
    {
     "name": "stdout",
     "output_type": "stream",
     "text": [
      "The 25th percentile is : 57.75, \n",
      "    The 50th percentile is: 69.0, \n",
      "    The 75th percentile is: 79.0\n"
     ]
    }
   ],
   "source": [
    "#these quantiles divide data into percentage or parts based on how we want \n",
    "print(f'''The 25th percentile is : {df[\"writing score\"].quantile(0.25)}, \n",
    "    The 50th percentile is: {df[\"writing score\"].quantile(0.5)}, \n",
    "    The 75th percentile is: {df[\"writing score\"].quantile(0.75)}'''\n",
    ")"
   ]
  },
  {
   "cell_type": "code",
   "execution_count": 23,
   "id": "59265e9c-9c1b-484f-b783-6608edc7549d",
   "metadata": {},
   "outputs": [
    {
     "name": "stdout",
     "output_type": "stream",
     "text": [
      "Number of students in top 25% are: 250\n"
     ]
    }
   ],
   "source": [
    "# students in first 25% are \n",
    "top_25 = df[df[\"writing score\"] <= df[\"writing score\"].quantile(0.25)]\n",
    "\n",
    "print(f\"Number of students in top 25% are: {top_25.shape[0]}\")"
   ]
  },
  {
   "cell_type": "code",
   "execution_count": 24,
   "id": "b8c1f243-cdad-4d34-9c49-447c8b96ffe9",
   "metadata": {},
   "outputs": [
    {
     "data": {
      "text/html": [
       "<div>\n",
       "<style scoped>\n",
       "    .dataframe tbody tr th:only-of-type {\n",
       "        vertical-align: middle;\n",
       "    }\n",
       "\n",
       "    .dataframe tbody tr th {\n",
       "        vertical-align: top;\n",
       "    }\n",
       "\n",
       "    .dataframe thead th {\n",
       "        text-align: right;\n",
       "    }\n",
       "</style>\n",
       "<table border=\"1\" class=\"dataframe\">\n",
       "  <thead>\n",
       "    <tr style=\"text-align: right;\">\n",
       "      <th></th>\n",
       "      <th>gender</th>\n",
       "      <th>race/ethnicity</th>\n",
       "      <th>parental level of education</th>\n",
       "      <th>lunch</th>\n",
       "      <th>test preparation course</th>\n",
       "      <th>math score</th>\n",
       "      <th>reading score</th>\n",
       "      <th>writing score</th>\n",
       "    </tr>\n",
       "  </thead>\n",
       "  <tbody>\n",
       "    <tr>\n",
       "      <th>3</th>\n",
       "      <td>male</td>\n",
       "      <td>group A</td>\n",
       "      <td>associate's degree</td>\n",
       "      <td>free/reduced</td>\n",
       "      <td>none</td>\n",
       "      <td>47</td>\n",
       "      <td>57</td>\n",
       "      <td>44</td>\n",
       "    </tr>\n",
       "    <tr>\n",
       "      <th>7</th>\n",
       "      <td>male</td>\n",
       "      <td>group B</td>\n",
       "      <td>some college</td>\n",
       "      <td>free/reduced</td>\n",
       "      <td>none</td>\n",
       "      <td>40</td>\n",
       "      <td>43</td>\n",
       "      <td>39</td>\n",
       "    </tr>\n",
       "    <tr>\n",
       "      <th>9</th>\n",
       "      <td>female</td>\n",
       "      <td>group B</td>\n",
       "      <td>high school</td>\n",
       "      <td>free/reduced</td>\n",
       "      <td>none</td>\n",
       "      <td>38</td>\n",
       "      <td>60</td>\n",
       "      <td>50</td>\n",
       "    </tr>\n",
       "    <tr>\n",
       "      <th>10</th>\n",
       "      <td>male</td>\n",
       "      <td>group C</td>\n",
       "      <td>associate's degree</td>\n",
       "      <td>standard</td>\n",
       "      <td>none</td>\n",
       "      <td>58</td>\n",
       "      <td>54</td>\n",
       "      <td>52</td>\n",
       "    </tr>\n",
       "    <tr>\n",
       "      <th>11</th>\n",
       "      <td>male</td>\n",
       "      <td>group D</td>\n",
       "      <td>associate's degree</td>\n",
       "      <td>standard</td>\n",
       "      <td>none</td>\n",
       "      <td>40</td>\n",
       "      <td>52</td>\n",
       "      <td>43</td>\n",
       "    </tr>\n",
       "  </tbody>\n",
       "</table>\n",
       "</div>"
      ],
      "text/plain": [
       "    gender race/ethnicity parental level of education         lunch  \\\n",
       "3     male        group A          associate's degree  free/reduced   \n",
       "7     male        group B                some college  free/reduced   \n",
       "9   female        group B                 high school  free/reduced   \n",
       "10    male        group C          associate's degree      standard   \n",
       "11    male        group D          associate's degree      standard   \n",
       "\n",
       "   test preparation course  math score  reading score  writing score  \n",
       "3                     none          47             57             44  \n",
       "7                     none          40             43             39  \n",
       "9                     none          38             60             50  \n",
       "10                    none          58             54             52  \n",
       "11                    none          40             52             43  "
      ]
     },
     "execution_count": 24,
     "metadata": {},
     "output_type": "execute_result"
    }
   ],
   "source": [
    "top_25.head()"
   ]
  },
  {
   "cell_type": "markdown",
   "id": "044b2d8d-4085-4ed1-83b6-6be0f61130a4",
   "metadata": {},
   "source": [
    "### **Exercise 5: Skewness and Kurtosis**\n",
    "**Scenario**: \n",
    "The head of the education board wants to understand the shape of the distribution of students' total scores.\n",
    "\n",
    "**Questions**: \n",
    "- Calculate the skewness and kurtosis of `total score`.\n",
    "- Is the distribution symmetric, skewed, or heavy/light-tailed?\n"
   ]
  },
  {
   "cell_type": "code",
   "execution_count": 26,
   "id": "4defa697-e62d-419e-b893-73d36b63c6dd",
   "metadata": {},
   "outputs": [
    {
     "name": "stdout",
     "output_type": "stream",
     "text": [
      "The Skewness of total score is : -0.2990571175016888\n"
     ]
    }
   ],
   "source": [
    "# skew measure the data distribution over the axis, right or left \n",
    "# where 0 being symmetrical, +ve being right , and -ve being left \n",
    "\n",
    "df[\"total score\"] = df['math score'] + df['reading score'] + df['writing score']\n",
    "\n",
    "print(f'The Skewness of total score is : {df[\"total score\"].skew()}')"
   ]
  },
  {
   "cell_type": "code",
   "execution_count": 28,
   "id": "fa67c45a-656b-46e4-8a3a-a9100d5c9011",
   "metadata": {},
   "outputs": [
    {
     "name": "stdout",
     "output_type": "stream",
     "text": [
      "The Kurtosis of total score is: 0.12584287362370716\n"
     ]
    }
   ],
   "source": [
    "#kkurtosis tells us how sharp or smooth the curve is the normal range would be 3 for normal distribution\n",
    "# if more than three then sharp on top and fat on either sides\n",
    "# if less than 3 than smooth and flat on sides \n",
    "\n",
    "print(f'The Kurtosis of total score is: {df[\"total score\"].kurt()}')"
   ]
  },
  {
   "cell_type": "markdown",
   "id": "6c969ffc-bf9b-4694-8abf-0bfae6d42c1b",
   "metadata": {},
   "source": [
    "### **Exercise 6: Visualizations**\n",
    "**Question**: \n",
    "Create visualizations to explore the distribution of `math score`, `reading score`, and `writing score`. Which distribution appears the most skewed?\n"
   ]
  },
  {
   "cell_type": "code",
   "execution_count": 33,
   "id": "1695c72d-19ff-4e81-8ac3-4a626aec6b14",
   "metadata": {},
   "outputs": [],
   "source": [
    "#Math Score Appeared more skewed as it was more sharp and less fat on side compared to other two. "
   ]
  },
  {
   "cell_type": "code",
   "execution_count": 30,
   "id": "a1a1d045-b485-463f-a7d0-a464349c8645",
   "metadata": {},
   "outputs": [
    {
     "data": {
      "image/png": "[encoded data removed]",
      "text/plain": [
       "<Figure size 640x480 with 1 Axes>"
      ]
     },
     "metadata": {},
     "output_type": "display_data"
    }
   ],
   "source": [
    "sns.kdeplot(df['reading score'], color=\"red\")\n",
    "\n",
    "sns.despine(top=True, right=True, left=True)\n",
    "plt.xticks([])\n",
    "plt.yticks([])\n",
    "plt.ylabel(\"\")\n",
    "plt.xlabel(\"\")\n",
    "plt.title(\"Reading Scores\", fontdict=dict(fontsize=20))\n",
    "\n",
    "# Find the mean, median, mode\n",
    "mean_score = df[\"reading score\"].mean()\n",
    "median_score = df[\"reading score\"].median()\n",
    "mode_score = df[\"reading score\"].mode().squeeze()\n",
    "\n",
    "# Add vertical lines at the position of mean, median, mode\n",
    "plt.axvline(mean_score, label=\"Mean\")\n",
    "plt.axvline(median_score, color=\"black\", label=\"Median\")\n",
    "plt.axvline(mode_score, color=\"green\", label=\"Mode\")\n",
    "\n",
    "plt.legend();\n"
   ]
  },
  {
   "cell_type": "code",
   "execution_count": 31,
   "id": "526bca94-025d-4340-b06e-15fac151936e",
   "metadata": {},
   "outputs": [
    {
     "data": {
      "image/png": "[encoded data removed]",
      "text/plain": [
       "<Figure size 640x480 with 1 Axes>"
      ]
     },
     "metadata": {},
     "output_type": "display_data"
    }
   ],
   "source": [
    "sns.kdeplot(df['math score'], color=\"red\")\n",
    "\n",
    "sns.despine(top=True, right=True, left=True)\n",
    "plt.xticks([])\n",
    "plt.yticks([])\n",
    "plt.ylabel(\"\")\n",
    "plt.xlabel(\"\")\n",
    "plt.title(\"Math Scores\", fontdict=dict(fontsize=20))\n",
    "\n",
    "# Find the mean, median, mode\n",
    "mean_score = df[\"math score\"].mean()\n",
    "median_score = df[\"math score\"].median()\n",
    "mode_score = df[\"math score\"].mode().squeeze()\n",
    "\n",
    "# Add vertical lines at the position of mean, median, mode\n",
    "plt.axvline(mean_score, label=\"Mean\")\n",
    "plt.axvline(median_score, color=\"black\", label=\"Median\")\n",
    "plt.axvline(mode_score, color=\"green\", label=\"Mode\")\n",
    "\n",
    "plt.legend();\n"
   ]
  },
  {
   "cell_type": "code",
   "execution_count": 32,
   "id": "747c3e7a-1240-4693-a72f-1272f0fa136d",
   "metadata": {},
   "outputs": [
    {
     "data": {
      "image/png": "[encoded data removed]",
      "text/plain": [
       "<Figure size 640x480 with 1 Axes>"
      ]
     },
     "metadata": {},
     "output_type": "display_data"
    }
   ],
   "source": [
    "sns.kdeplot(df['writing score'], color=\"red\")\n",
    "\n",
    "sns.despine(top=True, right=True, left=True)\n",
    "plt.xticks([])\n",
    "plt.yticks([])\n",
    "plt.ylabel(\"\")\n",
    "plt.xlabel(\"\")\n",
    "plt.title(\"writing Scores\", fontdict=dict(fontsize=20))\n",
    "\n",
    "# Find the mean, median, mode\n",
    "mean_score = df[\"writing score\"].mean()\n",
    "median_score = df[\"writing score\"].median()\n",
    "mode_score = df[\"writing score\"].mode().squeeze()\n",
    "\n",
    "# Add vertical lines at the position of mean, median, mode\n",
    "plt.axvline(mean_score, label=\"Mean\")\n",
    "plt.axvline(median_score, color=\"black\", label=\"Median\")\n",
    "plt.axvline(mode_score, color=\"green\", label=\"Mode\")\n",
    "\n",
    "plt.legend();"
   ]
  },
  {
   "cell_type": "markdown",
   "id": "3315dbf8-6269-4ed0-8eff-adfdda6ba099",
   "metadata": {},
   "source": [
    "### **Exercise 7: Gender Analysis**\n",
    "**Scenario**: \n",
    "The school wants to explore if gender impacts performance.\n",
    "\n",
    "**Questions**: \n",
    "- What is the average `math score`, `reading score`, and `writing score` for each gender?\n",
    "- Which gender performs better on average in each subject?\n"
   ]
  },
  {
   "cell_type": "code",
   "execution_count": 37,
   "id": "6a8d1424-9ec8-4227-ae82-12cd1279234e",
   "metadata": {},
   "outputs": [
    {
     "name": "stdout",
     "output_type": "stream",
     "text": [
      "The Average math score for each gender is gender\n",
      "female    63.63\n",
      "male      68.73\n",
      "Name: math score, dtype: float64\n"
     ]
    }
   ],
   "source": [
    "print(f'The Average math score for each gender is {round(df.groupby('gender')[\"math score\"].mean(), 2)}')"
   ]
  },
  {
   "cell_type": "code",
   "execution_count": 38,
   "id": "ad4b679a-7462-44ad-bac3-256f3ecfdff3",
   "metadata": {},
   "outputs": [
    {
     "name": "stdout",
     "output_type": "stream",
     "text": [
      "The Average reading score for each gender is gender\n",
      "female    72.61\n",
      "male      65.47\n",
      "Name: reading score, dtype: float64\n"
     ]
    }
   ],
   "source": [
    "print(f'The Average reading score for each gender is {round(df.groupby('gender')[\"reading score\"].mean(), 2)}')"
   ]
  },
  {
   "cell_type": "code",
   "execution_count": 39,
   "id": "a238d01b-c54e-474e-828c-0f32c9c20010",
   "metadata": {},
   "outputs": [
    {
     "name": "stdout",
     "output_type": "stream",
     "text": [
      "The Average writing score for each gender is gender\n",
      "female    72.47\n",
      "male      63.31\n",
      "Name: writing score, dtype: float64\n"
     ]
    }
   ],
   "source": [
    "print(f'The Average writing score for each gender is {round(df.groupby('gender')[\"writing score\"].mean(), 2)}')"
   ]
  },
  {
   "cell_type": "code",
   "execution_count": 40,
   "id": "ea30a011-9f81-4487-820f-10ab1797e1ce",
   "metadata": {},
   "outputs": [],
   "source": [
    "# on average female group performed better than male group."
   ]
  },
  {
   "cell_type": "markdown",
   "id": "90753c1a-5f0d-47fe-9f6b-68e918d17c44",
   "metadata": {},
   "source": [
    "### **Exercise 8: Parental Education Analysis**\n",
    "**Scenario**: \n",
    "The school wants to understand the influence of parental education on student performance.\n",
    "\n",
    "**Questions**: \n",
    "- What is the average score in each subject for different levels of parental education?\n",
    "- Which education level correlates with the highest average scores?\n"
   ]
  },
  {
   "cell_type": "code",
   "execution_count": 41,
   "id": "953699fc-8159-4b27-b0c6-57d956f5a77d",
   "metadata": {},
   "outputs": [
    {
     "name": "stdout",
     "output_type": "stream",
     "text": [
      "The Average scores for each parental level is \n",
      "                             math score  reading score  writing score\n",
      "parental level of education                                          \n",
      "associate's degree                67.88          70.93          69.90\n",
      "bachelor's degree                 69.39          73.00          73.38\n",
      "high school                       62.14          64.70          62.45\n",
      "master's degree                   69.75          75.37          75.68\n",
      "some college                      67.13          69.46          68.84\n",
      "some high school                  63.50          66.94          64.89\n",
      "\n"
     ]
    }
   ],
   "source": [
    "print(f'''The Average scores for each parental level is \n",
    "{round(df.groupby('parental level of education')[[\"math score\", \"reading score\", \"writing score\"]].mean(), 2)}\n",
    "''')"
   ]
  },
  {
   "cell_type": "markdown",
   "id": "51002f8c-9736-4db5-8cfd-20d856066156",
   "metadata": {},
   "source": [
    "### **Exercise 9: Outlier Detection**\n",
    "**Question**: \n",
    "Are there any outliers in the `math score`? Use a boxplot to visualize and calculate the Interquartile Range (IQR).\n"
   ]
  },
  {
   "cell_type": "code",
   "execution_count": 48,
   "id": "c18e2c02-1dd0-4f54-ae5d-6bb588e4cd11",
   "metadata": {},
   "outputs": [
    {
     "name": "stdout",
     "output_type": "stream",
     "text": [
      "     gender parental level of education  math score  reading score  writing score\n",
      "17   female            some high school          18             32             28\n",
      "59   female            some high school           0             17             10\n",
      "145  female                some college          22             39             33\n",
      "338  female            some high school          24             38             27\n",
      "466  female          associate's degree          26             31             38\n",
      "787  female                some college          19             38             32\n",
      "842  female                 high school          23             44             36\n",
      "980  female                 high school           8             24             23\n"
     ]
    }
   ],
   "source": [
    "# Inter quantile range \n",
    "q1 = df[\"math score\"].quantile(0.25)\n",
    "q3 = df[\"math score\"].quantile(0.75)\n",
    "\n",
    "iqr = q3 - q1 \n",
    "\n",
    "upper_bond = q3 + 1.5 * iqr\n",
    "lower_bond = q1 - 1.5 * iqr\n",
    "\n",
    "outliers = df[(df[\"math score\"] < lower_bond) | (df[\"math score\"] > upper_bond)]\n",
    "\n",
    "print(outliers[[\"gender\", \"parental level of education\", \"math score\", \"reading score\", \"writing score\"]].to_string())"
   ]
  },
  {
   "cell_type": "code",
   "execution_count": 50,
   "id": "33e0b9d0-cb8b-4db1-b351-7a9a1c5ea914",
   "metadata": {},
   "outputs": [
    {
     "data": {
      "text/plain": [
       "<Axes: >"
      ]
     },
     "execution_count": 50,
     "metadata": {},
     "output_type": "execute_result"
    },
    {
     "data": {
      "image/png": "[encoded data removed]",
      "text/plain": [
       "<Figure size 640x480 with 1 Axes>"
      ]
     },
     "metadata": {},
     "output_type": "display_data"
    }
   ],
   "source": [
    "df.boxplot(column=['math score', 'writing score', 'reading score']) "
   ]
  },
  {
   "cell_type": "markdown",
   "id": "10c4681d-7687-4643-aece-7ddb563c84bc",
   "metadata": {},
   "source": [
    "### **Exercise 10: Correlation Analysis**\n",
    "**Question**: \n",
    "Is there a correlation between `math score`, `reading score`, and `writing score`? Visualize using a heatmap and calculate correlation coefficients.\n"
   ]
  },
  {
   "cell_type": "code",
   "execution_count": 51,
   "id": "753d07a6-71d6-4925-af2f-9f21e72d9b6a",
   "metadata": {},
   "outputs": [
    {
     "name": "stdout",
     "output_type": "stream",
     "text": [
      "               math score  reading score  writing score\n",
      "math score       1.000000       0.817580       0.802642\n",
      "reading score    0.817580       1.000000       0.954598\n",
      "writing score    0.802642       0.954598       1.000000\n"
     ]
    }
   ],
   "source": [
    "correlation_matrix = df[[\"math score\", \"reading score\", \"writing score\"]].corr()\n",
    "\n",
    "print(correlation_matrix)"
   ]
  },
  {
   "cell_type": "code",
   "execution_count": 54,
   "id": "88729e12-b1da-4bde-8c12-3c411506f374",
   "metadata": {},
   "outputs": [
    {
     "data": {
      "image/png": "[encoded data removed]",
      "text/plain": [
       "<Figure size 640x480 with 2 Axes>"
      ]
     },
     "metadata": {},
     "output_type": "display_data"
    }
   ],
   "source": [
    "sns.heatmap(correlation_matrix, annot=True, cmap='coolwarm')\n",
    "plt.show()"
   ]
  },
  {
   "cell_type": "markdown",
   "id": "62235295-b0b0-4014-9199-e80efeacfdae",
   "metadata": {},
   "source": [
    "## Bonus:"
   ]
  },
  {
   "cell_type": "code",
   "execution_count": 56,
   "id": "1d8ae51f-ed50-4b8c-9dba-d8f2df1f0acd",
   "metadata": {},
   "outputs": [
    {
     "data": {
      "text/html": [
       "<div>\n",
       "<style scoped>\n",
       "    .dataframe tbody tr th:only-of-type {\n",
       "        vertical-align: middle;\n",
       "    }\n",
       "\n",
       "    .dataframe tbody tr th {\n",
       "        vertical-align: top;\n",
       "    }\n",
       "\n",
       "    .dataframe thead th {\n",
       "        text-align: right;\n",
       "    }\n",
       "</style>\n",
       "<table border=\"1\" class=\"dataframe\">\n",
       "  <thead>\n",
       "    <tr style=\"text-align: right;\">\n",
       "      <th></th>\n",
       "      <th>math score</th>\n",
       "      <th>reading score</th>\n",
       "      <th>writing score</th>\n",
       "      <th>total score</th>\n",
       "    </tr>\n",
       "  </thead>\n",
       "  <tbody>\n",
       "    <tr>\n",
       "      <th>count</th>\n",
       "      <td>1000.00000</td>\n",
       "      <td>1000.000000</td>\n",
       "      <td>1000.000000</td>\n",
       "      <td>1000.000000</td>\n",
       "    </tr>\n",
       "    <tr>\n",
       "      <th>mean</th>\n",
       "      <td>66.08900</td>\n",
       "      <td>69.169000</td>\n",
       "      <td>68.054000</td>\n",
       "      <td>203.312000</td>\n",
       "    </tr>\n",
       "    <tr>\n",
       "      <th>std</th>\n",
       "      <td>15.16308</td>\n",
       "      <td>14.600192</td>\n",
       "      <td>15.195657</td>\n",
       "      <td>42.771978</td>\n",
       "    </tr>\n",
       "    <tr>\n",
       "      <th>min</th>\n",
       "      <td>0.00000</td>\n",
       "      <td>17.000000</td>\n",
       "      <td>10.000000</td>\n",
       "      <td>27.000000</td>\n",
       "    </tr>\n",
       "    <tr>\n",
       "      <th>25%</th>\n",
       "      <td>57.00000</td>\n",
       "      <td>59.000000</td>\n",
       "      <td>57.750000</td>\n",
       "      <td>175.000000</td>\n",
       "    </tr>\n",
       "    <tr>\n",
       "      <th>50%</th>\n",
       "      <td>66.00000</td>\n",
       "      <td>70.000000</td>\n",
       "      <td>69.000000</td>\n",
       "      <td>205.000000</td>\n",
       "    </tr>\n",
       "    <tr>\n",
       "      <th>75%</th>\n",
       "      <td>77.00000</td>\n",
       "      <td>79.000000</td>\n",
       "      <td>79.000000</td>\n",
       "      <td>233.000000</td>\n",
       "    </tr>\n",
       "    <tr>\n",
       "      <th>max</th>\n",
       "      <td>100.00000</td>\n",
       "      <td>100.000000</td>\n",
       "      <td>100.000000</td>\n",
       "      <td>300.000000</td>\n",
       "    </tr>\n",
       "  </tbody>\n",
       "</table>\n",
       "</div>"
      ],
      "text/plain": [
       "       math score  reading score  writing score  total score\n",
       "count  1000.00000    1000.000000    1000.000000  1000.000000\n",
       "mean     66.08900      69.169000      68.054000   203.312000\n",
       "std      15.16308      14.600192      15.195657    42.771978\n",
       "min       0.00000      17.000000      10.000000    27.000000\n",
       "25%      57.00000      59.000000      57.750000   175.000000\n",
       "50%      66.00000      70.000000      69.000000   205.000000\n",
       "75%      77.00000      79.000000      79.000000   233.000000\n",
       "max     100.00000     100.000000     100.000000   300.000000"
      ]
     },
     "execution_count": 56,
     "metadata": {},
     "output_type": "execute_result"
    }
   ],
   "source": [
    "#gathers all the numerical data and provides all the descriptive stats in one command to get an overview\n",
    "df.describe()"
   ]
  },
  {
   "cell_type": "markdown",
   "id": "63b559dc-34e8-45fc-8d55-c21cbe907805",
   "metadata": {},
   "source": [
    "## **Conclusion**\n",
    "Descriptive statistics provide valuable insights into datasets by summarizing key properties. By practicing these exercises, you should now be more familiar with fundamental statistical techniques and their applications to real-world data.\n"
   ]
  }
 ],
 "metadata": {
  "kernelspec": {
   "display_name": "Python 3 (ipykernel)",
   "language": "python",
   "name": "python3"
  },
  "language_info": {
   "codemirror_mode": {
    "name": "ipython",
    "version": 3
   },
   "file_extension": ".py",
   "mimetype": "text/x-python",
   "name": "python",
   "nbconvert_exporter": "python",
   "pygments_lexer": "ipython3",
   "version": "3.12.7"
  },
  "panel-cell-order": [
   "1b6475ce-b3b0-4835-9dec-f99558556ad1",
   "fefbaa73-9105-4d2a-b69d-ffc7ba4f80f8"
  ]
 },
 "nbformat": 4,
 "nbformat_minor": 5
}
