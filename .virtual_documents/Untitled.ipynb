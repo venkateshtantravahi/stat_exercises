








import pandas as pd
import numpy as np
from scipy.stats import skew, kurtosis
import matplotlib.pyplot as plt
import seaborn as sns





data_url = "datasets/StudentsPerformance.csv.xls"
df = pd.read_csv(data_url)


# Display the first few rows of the dataset
df.head()


































































