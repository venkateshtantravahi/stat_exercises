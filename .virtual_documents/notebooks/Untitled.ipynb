











import pandas as pd 
import numpy as np 
import matplotlib.pyplot as plt 
import seaborn as sns


#loading the iris flowers dataset 
from sklearn.datasets import load_iris


iris_df = load_iris(as_frame=True)


iris_df = iris_df.frame + iris_df['target_names']


iris_df.head()











#exploring columns
iris_df.info()


# knowing the target values 
iris_df['target'].unique()


iris_df
