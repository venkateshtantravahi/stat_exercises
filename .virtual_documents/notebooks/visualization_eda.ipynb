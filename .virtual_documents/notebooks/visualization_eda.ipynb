











import pandas as pd 
import numpy as np 
import matplotlib.pyplot as plt 
import seaborn as sns


#loading the iris flowers dataset 
from sklearn.datasets import load_iris


iris = load_iris(as_frame=True)


iris_df = iris.frame 
iris_df['species'] = pd.Categorical.from_codes(iris.target, iris.target_names)


iris_df.head()











# knowing the target values 





























































