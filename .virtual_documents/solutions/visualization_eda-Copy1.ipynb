











import pandas as pd 
import numpy as np 
import matplotlib.pyplot as plt 
import seaborn as sns
import plotly.express as px


#loading the iris flowers dataset 
from sklearn.datasets import load_iris


iris = load_iris(as_frame=True)


iris_df = iris.frame 
iris_df['species'] = pd.Categorical.from_codes(iris.target, iris.target_names)


iris_df.head()








#exploring columns
iris_df.info()


# knowing the target values 
iris_df['target'].unique()


iris_df['species'].unique()





fig = px.histogram(iris_df, x="sepal length (cm)", color="species", histnorm="probability density")
fig.show()


fig = px.histogram(iris_df, x="petal length (cm)", color="species", histnorm="probability density")
fig.show()





fig = px.box(iris_df, x="sepal width (cm)", color="species",
             notched=True, # used notched shape
             title="Box plot of sepal width",
             points='all'
            )
fig.show()


fig = px.box(iris_df, x="petal width (cm)", color="species",
             notched=True, # used notched shape
             title="Box plot of petal width",
             points='all'
            )
fig.show()





fig = px.scatter(iris_df, 
                 x='petal length (cm)', 
                 y='petal width (cm)', 
                 trendline='ols',
                 color="species",
                title="Relation between petal length and width in cm")
fig.show()


results = px.get_trendline_results(fig)

print(results)


results.query("species == 'setosa'").px_fit_results.iloc[0].summary()


results.query("species == 'versicolor'").px_fit_results.iloc[0].summary()


results.query("species == 'virginica'").px_fit_results.iloc[0].summary()





correlations = iris_df.corr(numeric_only=True)

print(correlations)


fig = px.imshow(correlations, text_auto=True) 
fig.show()





sns.pairplot(iris_df, hue="species", markers=["o", "s", "D"])












