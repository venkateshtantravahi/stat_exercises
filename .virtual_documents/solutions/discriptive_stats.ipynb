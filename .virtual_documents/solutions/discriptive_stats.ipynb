








import pandas as pd
import numpy as np
from scipy.stats import skew, kurtosis
import matplotlib.pyplot as plt
import seaborn as sns





data_url = "../datasets/StudentsPerformance.csv"
df = pd.read_csv(data_url)


# Display the first few rows of the dataset
df.head()








df.info() #provides the information related to each column 


print(f'Number of unique values present in {'Gender'} : {df['gender'].nunique()}') # counts unique values

print(df.gender.unique()) # print the unique values of a column

print(f'Number of unique values present in column parental level of education are : {df['parental level of education'].nunique()}')

print(df['parental level of education'].unique())





# so here mean helps to determine the avg of whole class
mean_of_class = df['math score'].mean()
print(f'Avg of class is: {round(mean_of_class, 2)}')

#whereas median helps the teacher to grade people who belong to top 50% and who belong to last 50%  as median is middle value
median_of_class = df['math score'].median()
print(f'50th percentile of class is : {median_of_class}')
# mode helps to identify the most scored score or repeatedly scored value in a group of scores
mode_of_class = df['math score'].mode()
print(f'Frequent got score was: {mode_of_class}')





# variance helps to identify how the data is spread across the axis mean
student_score_consistency = df['reading score'].var(skipna=True, ddof=1)

print(f"The Variance of Student scores are: {round(student_score_consistency, 2)}")

#how each individual score is deviated from mean score. 
student_score_deviation = df['reading score'].std()

print(f"The standard deviation of student reading scores are: {round(student_score_deviation,2)}")





#these quantiles divide data into percentage or parts based on how we want 
print(f'''The 25th percentile is : {df["writing score"].quantile(0.25)}, 
    The 50th percentile is: {df["writing score"].quantile(0.5)}, 
    The 75th percentile is: {df["writing score"].quantile(0.75)}'''
)


# students in first 25% are 
top_25 = df[df["writing score"] <= df["writing score"].quantile(0.25)]

print(f"Number of students in top 25% are: {top_25.shape[0]}")


top_25.head()





# skew measure the data distribution over the axis, right or left 
# where 0 being symmetrical, +ve being right , and -ve being left 

df["total score"] = df['math score'] + df['reading score'] + df['writing score']

print(f'The Skewness of total score is : {df["total score"].skew()}')


#kkurtosis tells us how sharp or smooth the curve is the normal range would be 3 for normal distribution
# if more than three then sharp on top and fat on either sides
# if less than 3 than smooth and flat on sides 

print(f'The Kurtosis of total score is: {df["total score"].kurt()}')





#Math Score Appeared more skewed as it was more sharp and less fat on side compared to other two. 


sns.kdeplot(df['reading score'], color="red")

sns.despine(top=True, right=True, left=True)
plt.xticks([])
plt.yticks([])
plt.ylabel("")
plt.xlabel("")
plt.title("Reading Scores", fontdict=dict(fontsize=20))

# Find the mean, median, mode
mean_score = df["reading score"].mean()
median_score = df["reading score"].median()
mode_score = df["reading score"].mode().squeeze()

# Add vertical lines at the position of mean, median, mode
plt.axvline(mean_score, label="Mean")
plt.axvline(median_score, color="black", label="Median")
plt.axvline(mode_score, color="green", label="Mode")

plt.legend();



sns.kdeplot(df['math score'], color="red")

sns.despine(top=True, right=True, left=True)
plt.xticks([])
plt.yticks([])
plt.ylabel("")
plt.xlabel("")
plt.title("Math Scores", fontdict=dict(fontsize=20))

# Find the mean, median, mode
mean_score = df["math score"].mean()
median_score = df["math score"].median()
mode_score = df["math score"].mode().squeeze()

# Add vertical lines at the position of mean, median, mode
plt.axvline(mean_score, label="Mean")
plt.axvline(median_score, color="black", label="Median")
plt.axvline(mode_score, color="green", label="Mode")

plt.legend();



sns.kdeplot(df['writing score'], color="red")

sns.despine(top=True, right=True, left=True)
plt.xticks([])
plt.yticks([])
plt.ylabel("")
plt.xlabel("")
plt.title("writing Scores", fontdict=dict(fontsize=20))

# Find the mean, median, mode
mean_score = df["writing score"].mean()
median_score = df["writing score"].median()
mode_score = df["writing score"].mode().squeeze()

# Add vertical lines at the position of mean, median, mode
plt.axvline(mean_score, label="Mean")
plt.axvline(median_score, color="black", label="Median")
plt.axvline(mode_score, color="green", label="Mode")

plt.legend();





print(f'The Average math score for each gender is {round(df.groupby('gender')["math score"].mean(), 2)}')


print(f'The Average reading score for each gender is {round(df.groupby('gender')["reading score"].mean(), 2)}')


print(f'The Average writing score for each gender is {round(df.groupby('gender')["writing score"].mean(), 2)}')


# on average female group performed better than male group.





print(f'''The Average scores for each parental level is 
{round(df.groupby('parental level of education')[["math score", "reading score", "writing score"]].mean(), 2)}
''')





# Inter quantile range 
q1 = df["math score"].quantile(0.25)
q3 = df["math score"].quantile(0.75)

iqr = q3 - q1 

upper_bond = q3 + 1.5 * iqr
lower_bond = q1 - 1.5 * iqr

outliers = df[(df["math score"] < lower_bond) | (df["math score"] > upper_bond)]

print(outliers[["gender", "parental level of education", "math score", "reading score", "writing score"]].to_string())


df.boxplot(column=['math score', 'writing score', 'reading score']) 





correlation_matrix = df[["math score", "reading score", "writing score"]].corr()

print(correlation_matrix)


sns.heatmap(correlation_matrix, annot=True, cmap='coolwarm')
plt.show()





#gathers all the numerical data and provides all the descriptive stats in one command to get an overview
df.describe()



