{
 "cells": [
  {
   "cell_type": "markdown",
   "id": "1b6475ce-b3b0-4835-9dec-f99558556ad1",
   "metadata": {
    "panel-layout": {
     "height": 828.4375,
     "visible": true,
     "width": 100
    }
   },
   "source": [
    "# Exploring Descriptive Statistics\n",
    "\n",
    "## **Introduction**\n",
    "Descriptive statistics provide essential tools to summarize and understand data. They include measures of central tendency, variability, and distribution shape. In this notebook, we'll explore these concepts using the \"Students Performance in Exams\" dataset.\n",
    "\n",
    "### **Key Concepts**:\n",
    "- **Mean**: The average of a set of numbers, calculated as:\n",
    "\n",
    "  $$\n",
    "  \\text{Mean} = \\frac{\\sum_{i=1}^n x_i}{n}\n",
    "  $$\n",
    "  where $(x_i)$ are the data points and $(n)$ is the number of data points.\n",
    "\n",
    "- **Median**: The middle value when the numbers are sorted. If $(n)$ is odd, it is the middle value; if $(n)$ is even, it is the average of the two middle values.\n",
    "\n",
    "- **Mode**: The most frequently occurring value in a dataset.\n",
    "\n",
    "- **Variance**: The average squared deviation from the mean, measuring spread:\n",
    "  $$\n",
    "  \\text{Variance} = \\frac{\\sum_{i=1}^n (x_i - \\mu)^2}{n}\n",
    "  $$\n",
    "  where $(\\mu)$ is the mean.\n",
    "\n",
    "- **Standard Deviation**: The square root of variance, representing spread in the same units as the data:\n",
    "  $$\n",
    "  \\text{Standard Deviation} = \\sqrt{\\text{Variance}}\n",
    "  $$\n",
    "\n",
    "- **Percentiles and Quartiles**: Values dividing the data into 100 or 4 equal parts, respectively. For example, the 25th percentile (Q1) represents the value below which 25% of data lies.\n",
    "\n",
    "- **Skewness**: A measure of data asymmetry:\n",
    "  $$\n",
    "  \\text{Skewness} = \\frac{\\sum_{i=1}^n (x_i - \\mu)^3}{n \\cdot \\sigma^3}\n",
    "  $$\n",
    "  where $(\\sigma)$ is the standard deviation.\n",
    "\n",
    "- **Kurtosis**: A measure of whether data tails are heavy or light compared to a normal distribution:\n",
    "  $$\n",
    "  \\text{Kurtosis} = \\frac{\\sum_{i=1}^n (x_i - \\mu)^4}{n \\cdot \\sigma^4} - 3\n",
    "  $$\n"
   ]
  },
  {
   "cell_type": "markdown",
   "id": "fefbaa73-9105-4d2a-b69d-ffc7ba4f80f8",
   "metadata": {
    "panel-layout": {
     "height": 256.25,
     "visible": true,
     "width": 100
    }
   },
   "source": [
    "## **Dataset**\n",
    "We'll use the **\"Students Performance in Exams\"** dataset available on Kaggle.\n",
    "\n",
    "**Dataset Link**: [https://www.kaggle.com/spscientist/students-performance-in-exams](https://www.kaggle.com/spscientist/students-performance-in-exams)\n",
    "\n",
    "**Columns of Interest**:\n",
    "- **`math score`**: Numerical, representing the score obtained by students in mathematics.\n",
    "- **`reading score`**: Numerical, representing the score obtained by students in reading.\n",
    "- **`writing score`**: Numerical, representing the score obtained by students in writing.\n",
    "- **`gender`**: Categorical, representing the gender of the student (e.g., male, female).\n",
    "- **`parental level of education`**: Categorical, indicating the highest level of education achieved by the student’s parents.\n"
   ]
  },
  {
   "cell_type": "markdown",
   "id": "dc8f2d02-6823-45fe-a7ac-99caf236b2bd",
   "metadata": {},
   "source": [
    "## **Loading the Dataset**"
   ]
  },
  {
   "cell_type": "code",
   "execution_count": 1,
   "id": "adba560d-02e1-4491-96a5-52ed6084a856",
   "metadata": {},
   "outputs": [],
   "source": [
    "import pandas as pd\n",
    "import numpy as np\n",
    "from scipy.stats import skew, kurtosis\n",
    "import matplotlib.pyplot as plt\n",
    "import seaborn as sns"
   ]
  },
  {
   "cell_type": "markdown",
   "id": "b0ee2d53-18a0-4984-b6a3-3c5b3b2cf9dd",
   "metadata": {},
   "source": [
    "# Load the dataset"
   ]
  },
  {
   "cell_type": "code",
   "execution_count": 10,
   "id": "87166267-d004-4022-b13c-e049cc4bebf9",
   "metadata": {},
   "outputs": [],
   "source": [
    "data_url = \"./datasets/StudentsPerformance.csv\"\n",
    "df = pd.read_csv(data_url)"
   ]
  },
  {
   "cell_type": "code",
   "execution_count": 11,
   "id": "71f3426a-cc14-4fff-a833-6724b84814c7",
   "metadata": {},
   "outputs": [
    {
     "data": {
      "text/html": [
       "<div>\n",
       "<style scoped>\n",
       "    .dataframe tbody tr th:only-of-type {\n",
       "        vertical-align: middle;\n",
       "    }\n",
       "\n",
       "    .dataframe tbody tr th {\n",
       "        vertical-align: top;\n",
       "    }\n",
       "\n",
       "    .dataframe thead th {\n",
       "        text-align: right;\n",
       "    }\n",
       "</style>\n",
       "<table border=\"1\" class=\"dataframe\">\n",
       "  <thead>\n",
       "    <tr style=\"text-align: right;\">\n",
       "      <th></th>\n",
       "      <th>gender</th>\n",
       "      <th>race/ethnicity</th>\n",
       "      <th>parental level of education</th>\n",
       "      <th>lunch</th>\n",
       "      <th>test preparation course</th>\n",
       "      <th>math score</th>\n",
       "      <th>reading score</th>\n",
       "      <th>writing score</th>\n",
       "    </tr>\n",
       "  </thead>\n",
       "  <tbody>\n",
       "    <tr>\n",
       "      <th>0</th>\n",
       "      <td>female</td>\n",
       "      <td>group B</td>\n",
       "      <td>bachelor's degree</td>\n",
       "      <td>standard</td>\n",
       "      <td>none</td>\n",
       "      <td>72</td>\n",
       "      <td>72</td>\n",
       "      <td>74</td>\n",
       "    </tr>\n",
       "    <tr>\n",
       "      <th>1</th>\n",
       "      <td>female</td>\n",
       "      <td>group C</td>\n",
       "      <td>some college</td>\n",
       "      <td>standard</td>\n",
       "      <td>completed</td>\n",
       "      <td>69</td>\n",
       "      <td>90</td>\n",
       "      <td>88</td>\n",
       "    </tr>\n",
       "    <tr>\n",
       "      <th>2</th>\n",
       "      <td>female</td>\n",
       "      <td>group B</td>\n",
       "      <td>master's degree</td>\n",
       "      <td>standard</td>\n",
       "      <td>none</td>\n",
       "      <td>90</td>\n",
       "      <td>95</td>\n",
       "      <td>93</td>\n",
       "    </tr>\n",
       "    <tr>\n",
       "      <th>3</th>\n",
       "      <td>male</td>\n",
       "      <td>group A</td>\n",
       "      <td>associate's degree</td>\n",
       "      <td>free/reduced</td>\n",
       "      <td>none</td>\n",
       "      <td>47</td>\n",
       "      <td>57</td>\n",
       "      <td>44</td>\n",
       "    </tr>\n",
       "    <tr>\n",
       "      <th>4</th>\n",
       "      <td>male</td>\n",
       "      <td>group C</td>\n",
       "      <td>some college</td>\n",
       "      <td>standard</td>\n",
       "      <td>none</td>\n",
       "      <td>76</td>\n",
       "      <td>78</td>\n",
       "      <td>75</td>\n",
       "    </tr>\n",
       "  </tbody>\n",
       "</table>\n",
       "</div>"
      ],
      "text/plain": [
       "   gender race/ethnicity parental level of education         lunch  \\\n",
       "0  female        group B           bachelor's degree      standard   \n",
       "1  female        group C                some college      standard   \n",
       "2  female        group B             master's degree      standard   \n",
       "3    male        group A          associate's degree  free/reduced   \n",
       "4    male        group C                some college      standard   \n",
       "\n",
       "  test preparation course  math score  reading score  writing score  \n",
       "0                    none          72             72             74  \n",
       "1               completed          69             90             88  \n",
       "2                    none          90             95             93  \n",
       "3                    none          47             57             44  \n",
       "4                    none          76             78             75  "
      ]
     },
     "execution_count": 11,
     "metadata": {},
     "output_type": "execute_result"
    }
   ],
   "source": [
    "# Display the first few rows of the dataset\n",
    "df.head()"
   ]
  },
  {
   "cell_type": "markdown",
   "id": "246565ab-1c96-49d0-bfd7-11109e3e6cb5",
   "metadata": {},
   "source": [
    "## **Exercises**"
   ]
  },
  {
   "cell_type": "markdown",
   "id": "07c233fe-bea0-4245-8d88-f0d4416b8c46",
   "metadata": {},
   "source": [
    "### **Exercise 1: Data Overview**\n",
    "**Question**: \n",
    "What are the data types of the columns? How many unique values are present in categorical columns?\n"
   ]
  },
  {
   "cell_type": "code",
   "execution_count": null,
   "id": "80f51f8c-3fe5-48ec-a206-9ea9731bf09f",
   "metadata": {},
   "outputs": [],
   "source": []
  },
  {
   "cell_type": "markdown",
   "id": "0299f641-3f11-4f2b-8e31-6082a556d502",
   "metadata": {},
   "source": [
    "### **Exercise 2: Mean, Median, Mode**\n",
    "**Scenario**: \n",
    "A teacher wants to understand how her class performed in the math exam.\n",
    "\n",
    "**Question**: \n",
    "- What are the mean, median, and mode of the `math score`?\n"
   ]
  },
  {
   "cell_type": "code",
   "execution_count": null,
   "id": "0e53cbd2-c090-4eef-ac8a-b08434e934e1",
   "metadata": {},
   "outputs": [],
   "source": []
  },
  {
   "cell_type": "markdown",
   "id": "90cfa927-e973-41a2-ae40-ca5a8d8b7445",
   "metadata": {},
   "source": [
    "### **Exercise 3: Variance and Standard Deviation**\n",
    "**Scenario**: \n",
    "The school principal wants to know how consistent students are in their reading scores.\n",
    "\n",
    "**Question**: \n",
    "- Calculate the variance and standard deviation for `reading score`.\n"
   ]
  },
  {
   "cell_type": "code",
   "execution_count": null,
   "id": "05db225b-3ee5-4b0a-9972-dcba34916119",
   "metadata": {},
   "outputs": [],
   "source": []
  },
  {
   "cell_type": "markdown",
   "id": "aa766f3a-c0e1-44c7-a05b-84be1a54e934",
   "metadata": {},
   "source": [
    "### **Exercise 4: Percentiles and Quartiles**\n",
    "**Scenario**: \n",
    "The school counselor wants to identify the top 25% of students based on their writing scores.\n",
    "\n",
    "**Questions**: \n",
    "- What are the 25th, 50th (median), and 75th percentiles for `writing score`?\n",
    "- How would you identify students in the top 25%?\n"
   ]
  },
  {
   "cell_type": "code",
   "execution_count": null,
   "id": "5055f6b0-f355-45d0-993c-e5e513c191d7",
   "metadata": {},
   "outputs": [],
   "source": []
  },
  {
   "cell_type": "markdown",
   "id": "044b2d8d-4085-4ed1-83b6-6be0f61130a4",
   "metadata": {},
   "source": [
    "### **Exercise 5: Skewness and Kurtosis**\n",
    "**Scenario**: \n",
    "The head of the education board wants to understand the shape of the distribution of students' total scores.\n",
    "\n",
    "**Questions**: \n",
    "- Calculate the skewness and kurtosis of `total score`.\n",
    "- Is the distribution symmetric, skewed, or heavy/light-tailed?\n"
   ]
  },
  {
   "cell_type": "code",
   "execution_count": null,
   "id": "4defa697-e62d-419e-b893-73d36b63c6dd",
   "metadata": {},
   "outputs": [],
   "source": []
  },
  {
   "cell_type": "markdown",
   "id": "6c969ffc-bf9b-4694-8abf-0bfae6d42c1b",
   "metadata": {},
   "source": [
    "### **Exercise 6: Visualizations**\n",
    "**Question**: \n",
    "Create visualizations to explore the distribution of `math score`, `reading score`, and `writing score`. Which distribution appears the most skewed?\n"
   ]
  },
  {
   "cell_type": "code",
   "execution_count": null,
   "id": "526bca94-025d-4340-b06e-15fac151936e",
   "metadata": {},
   "outputs": [],
   "source": []
  },
  {
   "cell_type": "markdown",
   "id": "3315dbf8-6269-4ed0-8eff-adfdda6ba099",
   "metadata": {},
   "source": [
    "### **Exercise 7: Gender Analysis**\n",
    "**Scenario**: \n",
    "The school wants to explore if gender impacts performance.\n",
    "\n",
    "**Questions**: \n",
    "- What is the average `math score`, `reading score`, and `writing score` for each gender?\n",
    "- Which gender performs better on average in each subject?\n"
   ]
  },
  {
   "cell_type": "code",
   "execution_count": null,
   "id": "6a8d1424-9ec8-4227-ae82-12cd1279234e",
   "metadata": {},
   "outputs": [],
   "source": []
  },
  {
   "cell_type": "markdown",
   "id": "90753c1a-5f0d-47fe-9f6b-68e918d17c44",
   "metadata": {},
   "source": [
    "### **Exercise 8: Parental Education Analysis**\n",
    "**Scenario**: \n",
    "The school wants to understand the influence of parental education on student performance.\n",
    "\n",
    "**Questions**: \n",
    "- What is the average score in each subject for different levels of parental education?\n",
    "- Which education level correlates with the highest average scores?\n"
   ]
  },
  {
   "cell_type": "code",
   "execution_count": null,
   "id": "953699fc-8159-4b27-b0c6-57d956f5a77d",
   "metadata": {},
   "outputs": [],
   "source": []
  },
  {
   "cell_type": "markdown",
   "id": "51002f8c-9736-4db5-8cfd-20d856066156",
   "metadata": {},
   "source": [
    "### **Exercise 9: Outlier Detection**\n",
    "**Question**: \n",
    "Are there any outliers in the `math score`? Use a boxplot to visualize and calculate the Interquartile Range (IQR).\n"
   ]
  },
  {
   "cell_type": "code",
   "execution_count": null,
   "id": "c18e2c02-1dd0-4f54-ae5d-6bb588e4cd11",
   "metadata": {},
   "outputs": [],
   "source": []
  },
  {
   "cell_type": "markdown",
   "id": "10c4681d-7687-4643-aece-7ddb563c84bc",
   "metadata": {},
   "source": [
    "### **Exercise 10: Correlation Analysis**\n",
    "**Question**: \n",
    "Is there a correlation between `math score`, `reading score`, and `writing score`? Visualize using a heatmap and calculate correlation coefficients.\n"
   ]
  },
  {
   "cell_type": "code",
   "execution_count": null,
   "id": "753d07a6-71d6-4925-af2f-9f21e72d9b6a",
   "metadata": {},
   "outputs": [],
   "source": []
  },
  {
   "cell_type": "markdown",
   "id": "845cf9bf-24eb-4f2f-8aac-18d91f7af904",
   "metadata": {},
   "source": [
    "## Bonus: Try getting the overall descriptive stats using one single function. "
   ]
  },
  {
   "cell_type": "code",
   "execution_count": null,
   "id": "c8c853de-8841-4ee4-88ae-8def3c7b41ab",
   "metadata": {},
   "outputs": [],
   "source": []
  },
  {
   "cell_type": "markdown",
   "id": "63b559dc-34e8-45fc-8d55-c21cbe907805",
   "metadata": {},
   "source": [
    "## **Conclusion**\n",
    "Descriptive statistics provide valuable insights into datasets by summarizing key properties. By practicing these exercises, you should now be more familiar with fundamental statistical techniques and their applications to real-world data.\n"
   ]
  }
 ],
 "metadata": {
  "kernelspec": {
   "display_name": "Python 3 (ipykernel)",
   "language": "python",
   "name": "python3"
  },
  "language_info": {
   "codemirror_mode": {
    "name": "ipython",
    "version": 3
   },
   "file_extension": ".py",
   "mimetype": "text/x-python",
   "name": "python",
   "nbconvert_exporter": "python",
   "pygments_lexer": "ipython3",
   "version": "3.12.7"
  },
  "panel-cell-order": [
   "1b6475ce-b3b0-4835-9dec-f99558556ad1",
   "fefbaa73-9105-4d2a-b69d-ffc7ba4f80f8"
  ]
 },
 "nbformat": 4,
 "nbformat_minor": 5
}
